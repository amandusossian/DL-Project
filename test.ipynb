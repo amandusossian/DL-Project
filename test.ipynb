{
 "cells": [
  {
   "cell_type": "code",
   "execution_count": 70,
   "metadata": {},
   "outputs": [],
   "source": [
    "import numpy as np\n",
    "import copy"
   ]
  },
  {
   "cell_type": "code",
   "execution_count": 86,
   "metadata": {},
   "outputs": [
    {
     "ename": "AttributeError",
     "evalue": "'list' object has no attribute 'xtra'",
     "output_type": "error",
     "traceback": [
      "\u001b[1;31m---------------------------------------------------------------------------\u001b[0m",
      "\u001b[1;31mAttributeError\u001b[0m                            Traceback (most recent call last)",
      "\u001b[1;32mc:\\Users\\Admin\\ETH Coursework\\Deep Learning\\Project\\test.ipynb Cell 2\u001b[0m line \u001b[0;36m2\n\u001b[0;32m     <a href='vscode-notebook-cell:/c%3A/Users/Admin/ETH%20Coursework/Deep%20Learning/Project/test.ipynb#W1sZmlsZQ%3D%3D?line=16'>17</a>\u001b[0m         \u001b[39mself\u001b[39m\u001b[39m.\u001b[39mxtra \u001b[39m=\u001b[39m x\n\u001b[0;32m     <a href='vscode-notebook-cell:/c%3A/Users/Admin/ETH%20Coursework/Deep%20Learning/Project/test.ipynb#W1sZmlsZQ%3D%3D?line=17'>18</a>\u001b[0m         \u001b[39mself\u001b[39m\u001b[39m.\u001b[39mff()\n\u001b[1;32m---> <a href='vscode-notebook-cell:/c%3A/Users/Admin/ETH%20Coursework/Deep%20Learning/Project/test.ipynb#W1sZmlsZQ%3D%3D?line=19'>20</a>\u001b[0m aClass\u001b[39m.\u001b[39;49mrandom_function([\u001b[39m9\u001b[39;49m] , \u001b[39m4\u001b[39;49m)\n",
      "\u001b[1;32mc:\\Users\\Admin\\ETH Coursework\\Deep Learning\\Project\\test.ipynb Cell 2\u001b[0m line \u001b[0;36m1\n\u001b[0;32m     <a href='vscode-notebook-cell:/c%3A/Users/Admin/ETH%20Coursework/Deep%20Learning/Project/test.ipynb#W1sZmlsZQ%3D%3D?line=15'>16</a>\u001b[0m \u001b[39mdef\u001b[39;00m \u001b[39mrandom_function\u001b[39m(\u001b[39mself\u001b[39m, x):\n\u001b[1;32m---> <a href='vscode-notebook-cell:/c%3A/Users/Admin/ETH%20Coursework/Deep%20Learning/Project/test.ipynb#W1sZmlsZQ%3D%3D?line=16'>17</a>\u001b[0m     \u001b[39mself\u001b[39;49m\u001b[39m.\u001b[39;49mxtra \u001b[39m=\u001b[39m x\n\u001b[0;32m     <a href='vscode-notebook-cell:/c%3A/Users/Admin/ETH%20Coursework/Deep%20Learning/Project/test.ipynb#W1sZmlsZQ%3D%3D?line=17'>18</a>\u001b[0m     \u001b[39mself\u001b[39m\u001b[39m.\u001b[39mff()\n",
      "\u001b[1;31mAttributeError\u001b[0m: 'list' object has no attribute 'xtra'"
     ]
    }
   ],
   "source": [
    "class aClass:\n",
    "    def __init__(self):\n",
    "        self.board = np.array([\n",
    "        [0,0,1,0],\n",
    "        [0,0,1,0],\n",
    "        [0,2,1,0]\n",
    "        ])\n",
    "\n",
    "        self.xtra = 0\n",
    "    def get_board(self):\n",
    "        return copy.copy(self.board)\n",
    "    \n",
    "    def ff(self):\n",
    "        print(self.xtra)\n",
    "        \n",
    "    def random_function(self, x):\n",
    "        self.xtra = x\n",
    "        self.ff()\n",
    "    \n",
    "aClass.random_function([9] , 4)"
   ]
  },
  {
   "cell_type": "code",
   "execution_count": 64,
   "metadata": {},
   "outputs": [
    {
     "data": {
      "text/plain": [
       "array([[1, 4],\n",
       "       [2, 5],\n",
       "       [3, 6]])"
      ]
     },
     "execution_count": 64,
     "metadata": {},
     "output_type": "execute_result"
    }
   ],
   "source": [
    "\n",
    "a = [1,2, 3]\n",
    "b = [4, 5, 6]\n",
    "np.vstack((a, b)).T"
   ]
  },
  {
   "cell_type": "code",
   "execution_count": 100,
   "metadata": {},
   "outputs": [
    {
     "name": "stdout",
     "output_type": "stream",
     "text": [
      "n0 7, n1 18, n2 17\n"
     ]
    }
   ],
   "source": [
    "a = \"[[1. 0. 2. 2. 0. 0. 0.],[1. 1. 1. 1. 2. 0. 0.],        [2. 2. 1. 1. 2. 2. 0.],        [2. 1. 2. 1. 2. 1. 1.],        [2. 2. 1. 2. 2. 1. 2.],[1. 1. 1. 2. 1. 2. 1.]]\"\n",
    "n0 = 0\n",
    "n1 = 0\n",
    "n2 = 0\n",
    "for i in range(len(a)):\n",
    "    try:\n",
    "        if int(a[i]) == 1:\n",
    "            n1 += 1\n",
    "        elif int(a[i]) == 2:\n",
    "            n2 += 1\n",
    "        else:\n",
    "            n0 += 1\n",
    "    except:\n",
    "        pass\n",
    "print(f\"n0 {n0}, n1 {n1}, n2 {n2}\")\n"
   ]
  },
  {
   "cell_type": "code",
   "execution_count": 98,
   "metadata": {},
   "outputs": [
    {
     "name": "stdout",
     "output_type": "stream",
     "text": [
      "1\n"
     ]
    }
   ],
   "source": [
    "print(a[2])"
   ]
  }
 ],
 "metadata": {
  "kernelspec": {
   "display_name": "Python 3",
   "language": "python",
   "name": "python3"
  },
  "language_info": {
   "codemirror_mode": {
    "name": "ipython",
    "version": 3
   },
   "file_extension": ".py",
   "mimetype": "text/x-python",
   "name": "python",
   "nbconvert_exporter": "python",
   "pygments_lexer": "ipython3",
   "version": "3.9.13"
  }
 },
 "nbformat": 4,
 "nbformat_minor": 2
}
