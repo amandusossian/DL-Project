{
 "cells": [
  {
   "cell_type": "code",
   "execution_count": 23,
   "metadata": {},
   "outputs": [
    {
     "name": "stdout",
     "output_type": "stream",
     "text": [
      "The autoreload extension is already loaded. To reload it, use:\n",
      "  %reload_ext autoreload\n"
     ]
    }
   ],
   "source": [
    "%load_ext autoreload\n",
    "%autoreload 2\n",
    "import numpy as np\n",
    "import enum\n",
    "import copy\n",
    "import connect4.connect4 as game\n",
    "from pympler import asizeof\n",
    "import deeplearning.buffer as bf"
   ]
  },
  {
   "cell_type": "code",
   "execution_count": 34,
   "metadata": {},
   "outputs": [],
   "source": [
    "env = game.Connect4()\n",
    "p1 = game.RandomPlayer()\n",
    "p2 = game.RandomPlayer()\n",
    "buffer = bf.ReplayBuffer(1000)\n",
    "gm = game.GameManager([p1, p2])"
   ]
  },
  {
   "cell_type": "code",
   "execution_count": 37,
   "metadata": {},
   "outputs": [],
   "source": [
    "gm.play(1000, env, buffer)"
   ]
  },
  {
   "cell_type": "code",
   "execution_count": 32,
   "metadata": {},
   "outputs": [
    {
     "data": {
      "text/plain": [
       "([tensor([-0., -0., -0., -0., -0., -0., -0., -0., -0., -1., -0., -0., -0., -0.,\n",
       "          -1.,  1., -1., -0., -0.,  1., -0.,  1., -1., -1., -0., -0., -1., -1.,\n",
       "           1., -1.,  1., -0.,  1., -1.,  1., -1.,  1.,  1.,  1., -1., -1.,  1.,\n",
       "          -1.]),\n",
       "  tensor([-0., -0., -0., -0., -0., -0., -0., -0., -0., -0., -0., -0., -0., -0.,\n",
       "          -0., -0., -1.,  1., -0., -1., -0.,  1.,  1.,  1., -1., -0., -1., -1.,\n",
       "          -1., -1.,  1.,  1., -1., -1.,  1.,  1., -1., -1.,  1.,  1.,  1., -1.,\n",
       "          -1.]),\n",
       "  tensor([-0., -0., -0., -0., -0., -0., -0., -0., -0., -0., -0., -0., -0., -0.,\n",
       "          -0., -0., -0., -0., -0., -0., -0., -0., -0., -0., -0., -0., -0., -0.,\n",
       "          -1., -0., -0., -0., -0., -0., -0.,  1., -1., -1., -0., -0.,  1., -0.,\n",
       "          -1.]),\n",
       "  tensor([ 0.,  0.,  0.,  0.,  0.,  0.,  0.,  0.,  0.,  0.,  0.,  0.,  0.,  0.,\n",
       "           0.,  0.,  0.,  0.,  0.,  0.,  0.,  0.,  0.,  0.,  0.,  0.,  0.,  0.,\n",
       "           0.,  1.,  0.,  1.,  0.,  0.,  0.,  0.,  1., -1., -1.,  0., -1.,  0.,\n",
       "          -1.]),\n",
       "  tensor([ 0., -1.,  0.,  0.,  0.,  0.,  0.,  0., -1.,  0.,  0.,  0.,  0.,  0.,\n",
       "           0.,  1.,  0.,  0.,  0.,  0.,  0.,  0., -1.,  0.,  0.,  0.,  0.,  1.,\n",
       "          -1.,  1.,  0.,  0.,  0.,  0.,  1., -1., -1., -1.,  0.,  1.,  1.,  1.,\n",
       "           1.]),\n",
       "  tensor([ 0.,  0.,  0.,  0.,  0.,  0.,  0.,  0.,  0.,  0.,  0.,  0.,  0.,  0.,\n",
       "           0.,  0.,  0.,  0.,  0.,  0.,  0.,  0.,  0.,  0.,  0.,  0.,  0.,  0.,\n",
       "           0.,  0.,  0.,  0.,  0.,  0.,  0.,  0.,  1., -1.,  0.,  1.,  0., -1.,\n",
       "          -1.]),\n",
       "  tensor([ 0.,  0.,  0.,  0.,  0.,  0.,  0.,  0.,  0.,  0.,  0.,  0.,  0.,  0.,\n",
       "           0.,  0.,  1.,  0.,  0.,  0.,  0.,  0.,  0., -1.,  1.,  0.,  1.,  0.,\n",
       "           1., -1.,  1., -1., -1.,  1., -1.,  1., -1.,  1.,  1., -1., -1., -1.,\n",
       "          -1.]),\n",
       "  tensor([-0., -0., -0., -0., -0., -0., -0., -0., -0., -0., -0., -0., -0., -0.,\n",
       "          -0., -0., -0., -0., -0., -0., -0., -0., -0., -0., -1., -0., -0., -0.,\n",
       "           1., -0., -0.,  1., -0., -0., -0., -1., -1.,  1., -1., -0., -0., -0.,\n",
       "           1.]),\n",
       "  tensor([-0., -0., -0., -1., -0., -0., -0., -1., -0., -0.,  1., -0., -0., -0.,\n",
       "          -1., -0., -0., -1., -0.,  1., -0.,  1., -0., -0., -1., -0.,  1., -1.,\n",
       "           1., -0., -0.,  1.,  1., -1.,  1., -1.,  1., -0., -1.,  1., -1., -1.,\n",
       "          -1.]),\n",
       "  tensor([-1.,  0.,  0.,  0., -1.,  0.,  0.,  1.,  0.,  0.,  0., -1.,  0.,  0.,\n",
       "          -1.,  0.,  0.,  0.,  1.,  0.,  0., -1.,  0.,  0., -1.,  1.,  0.,  0.,\n",
       "          -1.,  1., -1.,  1., -1.,  1.,  0.,  1.,  1., -1.,  1., -1.,  1.,  1.,\n",
       "          -1.])],\n",
       " [2, 4, 0, 5, 2, 6, 4, 3, 6, 0])"
      ]
     },
     "execution_count": 32,
     "metadata": {},
     "output_type": "execute_result"
    }
   ],
   "source": [
    "buffer.create_training_examples(10)"
   ]
  },
  {
   "cell_type": "code",
   "execution_count": null,
   "metadata": {},
   "outputs": [],
   "source": []
  }
 ],
 "metadata": {
  "kernelspec": {
   "display_name": "code-E6CLkrsR",
   "language": "python",
   "name": "python3"
  },
  "language_info": {
   "codemirror_mode": {
    "name": "ipython",
    "version": 3
   },
   "file_extension": ".py",
   "mimetype": "text/x-python",
   "name": "python",
   "nbconvert_exporter": "python",
   "pygments_lexer": "ipython3",
   "version": "3.10.1"
  }
 },
 "nbformat": 4,
 "nbformat_minor": 2
}
